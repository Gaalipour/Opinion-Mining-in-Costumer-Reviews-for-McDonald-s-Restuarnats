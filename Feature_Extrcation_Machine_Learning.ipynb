{
 "cells": [
  {
   "cell_type": "code",
   "execution_count": 2,
   "metadata": {
    "collapsed": true
   },
   "outputs": [],
   "source": [
    "import re\n",
    "from textblob import TextBlob\n",
    "import numpy as np\n",
    "from textblob import Word\n",
    "from textblob.classifiers import NaiveBayesClassifier\n",
    "import nltk\n",
    "from nltk.probability import FreqDist\n",
    "import random\n",
    "import numpy as np\n",
    "from textblob import TextBlob"
   ]
  },
  {
   "cell_type": "markdown",
   "metadata": {
    "collapsed": false
   },
   "source": [
    "## Reading the  processed and projected data obtaned in the previous notebook"
   ]
  },
  {
   "cell_type": "code",
   "execution_count": 4,
   "metadata": {
    "collapsed": false
   },
   "outputs": [],
   "source": [
    "with open(\"processed_file.txt\", \"r\") as fh:\n",
    "    data = fh.read().strip()\n",
    "    data = re.sub(r\"[^\\w\\s)]\", \"\", data)\n",
    "fh.close()"
   ]
  },
  {
   "cell_type": "code",
   "execution_count": 5,
   "metadata": {
    "collapsed": false
   },
   "outputs": [
    {
     "data": {
      "text/plain": [
       "['one star and im beng kind i blame management last day of free coffee so we decide to stop and order breakfast and coffees thru drivethru she charged us for coffee and when asked why she said she needed to confirm there were two of us in the car now she has to clear the order and that took retraining ask next time at tthe speakeroh it gets betterwe get to next window where einstein is waiting pours the coffees with different creamssugars added which one is which i asked and he smiled and said one has 2 cream 2 sugar and the other has 3 cream 1 sugar didnt maek the cups but at least he made sure we had straws for our coffees hello management where are you',\n",
       " 'RudeService']"
      ]
     },
     "execution_count": 5,
     "metadata": {},
     "output_type": "execute_result"
    }
   ],
   "source": [
    "lines = data.split(\"\\n\")\n",
    "paired = [item.split(\"\\t\") for item in lines] # review paired with ots label\n",
    "paired[6]"
   ]
  },
  {
   "cell_type": "markdown",
   "metadata": {},
   "source": [
    "## Extracting Tokens in Reviews"
   ]
  },
  {
   "cell_type": "code",
   "execution_count": 15,
   "metadata": {
    "collapsed": false
   },
   "outputs": [],
   "source": [
    "all_reviews = \"\".join([item[0] for item in paired]) ## all reviews\n",
    "tokens = nltk.word_tokenize(all_reviews)\n",
    "freq = nltk.FreqDist(tokens)\n",
    "tages = nltk.pos_tag(tokens)"
   ]
  },
  {
   "cell_type": "markdown",
   "metadata": {},
   "source": [
    "### Most frequent unigrams"
   ]
  },
  {
   "cell_type": "code",
   "execution_count": 16,
   "metadata": {
    "collapsed": false
   },
   "outputs": [
    {
     "data": {
      "text/plain": [
       "[('the', 5552),\n",
       " ('i', 3560),\n",
       " ('and', 3391),\n",
       " ('to', 3359),\n",
       " ('a', 2696),\n",
       " ('of', 1552),\n",
       " ('is', 1501),\n",
       " ('was', 1464),\n",
       " ('in', 1427),\n",
       " ('for', 1343)]"
      ]
     },
     "execution_count": 16,
     "metadata": {},
     "output_type": "execute_result"
    }
   ],
   "source": [
    "freq.most_common(10)"
   ]
  },
  {
   "cell_type": "markdown",
   "metadata": {},
   "source": [
    "### Most frequent bigrams"
   ]
  },
  {
   "cell_type": "code",
   "execution_count": 17,
   "metadata": {
    "collapsed": false
   },
   "outputs": [
    {
     "data": {
      "text/plain": [
       "[(('the', 'food'), 156),\n",
       " (('out', 'of'), 143),\n",
       " (('so', 'i'), 142),\n",
       " (('to', 'this'), 141),\n",
       " (('this', 'place'), 138),\n",
       " (('is', 'the'), 137),\n",
       " (('this', 'is'), 132),\n",
       " (('in', 'a'), 130),\n",
       " (('is', 'a'), 129),\n",
       " (('they', 'are'), 129),\n",
       " (('it', 'is'), 125),\n",
       " (('go', 'to'), 125),\n",
       " (('if', 'you'), 124),\n",
       " (('i', 'had'), 121),\n",
       " (('have', 'to'), 115),\n",
       " (('the', 'manager'), 113),\n",
       " (('and', 'they'), 113),\n",
       " (('time', 'i'), 112),\n",
       " (('i', 'ordered'), 110),\n",
       " (('had', 'to'), 107),\n",
       " (('i', 'dont'), 106),\n",
       " (('the', 'worst'), 106),\n",
       " (('the', 'window'), 102),\n",
       " (('fast', 'food'), 100),\n",
       " (('at', 'this'), 97),\n",
       " (('customer', 'service'), 97),\n",
       " (('was', 'a'), 94),\n",
       " (('one', 'of'), 93),\n",
       " (('to', 'go'), 93),\n",
       " (('that', 'i'), 93),\n",
       " (('drive', 'through'), 91),\n",
       " (('i', 'went'), 90),\n",
       " (('and', 'a'), 88),\n",
       " (('but', 'i'), 86),\n",
       " (('with', 'the'), 85),\n",
       " (('there', 'was'), 85),\n",
       " (('mcdonalds', 'is'), 85),\n",
       " (('i', 'would'), 83),\n",
       " (('the', 'only'), 83),\n",
       " (('for', 'my'), 82),\n",
       " (('i', 'am'), 81),\n",
       " (('from', 'the'), 80),\n",
       " (('there', 'is'), 79),\n",
       " (('have', 'a'), 78),\n",
       " (('with', 'a'), 78),\n",
       " (('the', 'drivethru'), 78),\n",
       " (('i', 'got'), 77),\n",
       " (('my', 'food'), 77),\n",
       " (('i', 'will'), 76),\n",
       " (('your', 'order'), 76),\n",
       " (('been', 'to'), 76),\n",
       " (('i', 'asked'), 75),\n",
       " (('a', 'mcdonalds'), 75),\n",
       " (('and', 'then'), 74),\n",
       " (('was', 'the'), 73),\n",
       " (('i', 'could'), 73),\n",
       " (('a', 'few'), 72),\n",
       " (('at', 'least'), 71),\n",
       " (('up', 'to'), 71),\n",
       " (('if', 'i'), 71)]"
      ]
     },
     "execution_count": 17,
     "metadata": {},
     "output_type": "execute_result"
    }
   ],
   "source": [
    "bigrams = nltk.bigrams(all_reviews.split(\" \"))\n",
    "bigram_freq = nltk.FreqDist(list(bigrams))\n",
    "sorted_bigram_freq = bigram_freq.most_common()\n",
    "sorted_bigram_freq[20:80]"
   ]
  },
  {
   "cell_type": "markdown",
   "metadata": {},
   "source": [
    "### Most frequent trigrams"
   ]
  },
  {
   "cell_type": "code",
   "execution_count": 18,
   "metadata": {
    "collapsed": false
   },
   "outputs": [
    {
     "data": {
      "text/plain": [
       "[(('i', 'have', 'ever'), 40),\n",
       " (('the', 'food', 'is'), 40),\n",
       " (('the', 'worst', 'mcdonalds'), 38),\n",
       " (('go', 'to', 'this'), 36),\n",
       " (('i', 'asked', 'for'), 35),\n",
       " (('this', 'place', 'is'), 33),\n",
       " (('to', 'this', 'location'), 33),\n",
       " (('to', 'get', 'my'), 33),\n",
       " (('front', 'of', 'me'), 33),\n",
       " (('ever', 'been', 'to'), 32)]"
      ]
     },
     "execution_count": 18,
     "metadata": {},
     "output_type": "execute_result"
    }
   ],
   "source": [
    "trigrams = nltk.trigrams(all_reviews.split(\" \"))\n",
    "trigram_freq = nltk.FreqDist(list(trigrams))\n",
    "sorted_trigram_freq = trigram_freq.most_common()\n",
    "sorted_trigram_freq[10:20]"
   ]
  },
  {
   "cell_type": "markdown",
   "metadata": {},
   "source": [
    "# Apply POS tagging for Lemmatizing"
   ]
  },
  {
   "cell_type": "markdown",
   "metadata": {},
   "source": [
    "## Verb Lemmatizing\n",
    "\n",
    "We lemmatize all verbs. So am/is/are/was/were become __be__ and so on. "
   ]
  },
  {
   "cell_type": "code",
   "execution_count": 19,
   "metadata": {
    "collapsed": false
   },
   "outputs": [],
   "source": [
    "wnl = nltk.WordNetLemmatizer()\n",
    "\n",
    "def verb_checker(pair):\n",
    "    if pair[1].startswith(\"V\"):\n",
    "        \n",
    "        return Word(pair[0]).lemmatize(\"v\")\n",
    "        #return wnl.lemmatize(pair[0])\n",
    "    else:\n",
    "        return pair[0]"
   ]
  },
  {
   "cell_type": "markdown",
   "metadata": {},
   "source": [
    "### Call lemmatized tokens as new_tokens"
   ]
  },
  {
   "cell_type": "code",
   "execution_count": 20,
   "metadata": {
    "collapsed": false
   },
   "outputs": [
    {
     "data": {
      "text/plain": [
       "['im', 'not', 'a', 'huge', 'mcds']"
      ]
     },
     "execution_count": 20,
     "metadata": {},
     "output_type": "execute_result"
    }
   ],
   "source": [
    "new_tokens = [verb_checker(item) for item in tages] \n",
    "new_tokens[:5]"
   ]
  },
  {
   "cell_type": "code",
   "execution_count": 21,
   "metadata": {
    "collapsed": false
   },
   "outputs": [],
   "source": [
    "new_tokens_tages = nltk.pos_tag(new_tokens)"
   ]
  },
  {
   "cell_type": "code",
   "execution_count": 23,
   "metadata": {
    "collapsed": false
   },
   "outputs": [],
   "source": [
    "#nltk.pos_tag([\"token\", \"taken\"])"
   ]
  },
  {
   "cell_type": "markdown",
   "metadata": {},
   "source": [
    "### Generating a Dictionary of POS tags VB, NN, JJ, RB"
   ]
  },
  {
   "cell_type": "code",
   "execution_count": 24,
   "metadata": {
    "collapsed": false
   },
   "outputs": [],
   "source": [
    "dic_of_pos = {\"VB\":[], \"JJ\":[], \"RB\":[], \"NN\":[]}\n",
    "for token in set(new_tokens):\n",
    "    pair = nltk.pos_tag([token])[0]\n",
    "    if pair[1].startswith(\"VB\"):\n",
    "        dic_of_pos[\"VB\"].append(pair[0])\n",
    "    if pair[1].startswith(\"JJ\"):\n",
    "        dic_of_pos[\"JJ\"].append(pair[0])\n",
    "    if pair[1].startswith(\"NN\"):\n",
    "        dic_of_pos[\"NN\"].append(pair[0])\n",
    "    if pair[1].startswith(\"RB\"):\n",
    "        dic_of_pos[\"RB\"].append(pair[0])\n"
   ]
  },
  {
   "cell_type": "markdown",
   "metadata": {},
   "source": [
    "### Frequencies of new tokens"
   ]
  },
  {
   "cell_type": "code",
   "execution_count": 34,
   "metadata": {
    "collapsed": false
   },
   "outputs": [
    {
     "data": {
      "text/plain": [
       "[('the', 5552),\n",
       " ('be', 4998),\n",
       " ('i', 3560),\n",
       " ('and', 3391),\n",
       " ('to', 3359),\n",
       " ('a', 2696),\n",
       " ('of', 1552),\n",
       " ('have', 1465),\n",
       " ('in', 1427),\n",
       " ('for', 1343)]"
      ]
     },
     "execution_count": 34,
     "metadata": {},
     "output_type": "execute_result"
    }
   ],
   "source": [
    "new_tokens_freq = nltk.FreqDist(new_tokens)\n",
    "new_tokens_freq.most_common(10)"
   ]
  },
  {
   "cell_type": "markdown",
   "metadata": {},
   "source": [
    "### We use the dictionary to extract most frequent verbs, adjecyives, adverbs and nouns"
   ]
  },
  {
   "cell_type": "code",
   "execution_count": 35,
   "metadata": {
    "collapsed": false
   },
   "outputs": [
    {
     "data": {
      "text/plain": [
       "[('be', 4998),\n",
       " ('have', 1465),\n",
       " ('get', 973),\n",
       " ('go', 820),\n",
       " ('do', 517),\n",
       " ('take', 388),\n",
       " ('say', 358),\n",
       " ('give', 344),\n",
       " ('come', 305),\n",
       " ('make', 294)]"
      ]
     },
     "execution_count": 35,
     "metadata": {},
     "output_type": "execute_result"
    }
   ],
   "source": [
    "verbs = dic_of_pos[\"VB\"]\n",
    "verb_freq = [(item, new_tokens_freq[item]) for item in verbs]\n",
    "sorted_verb_freq = sorted(verb_freq, key = lambda x: x[1], reverse = True)\n",
    "sorted_verb_freq[:10]"
   ]
  },
  {
   "cell_type": "code",
   "execution_count": 36,
   "metadata": {
    "collapsed": false
   },
   "outputs": [
    {
     "data": {
      "text/plain": [
       "[('ive', 198),\n",
       " ('other', 190),\n",
       " ('good', 169),\n",
       " ('wrong', 162),\n",
       " ('worst', 155),\n",
       " ('bad', 135),\n",
       " ('much', 105),\n",
       " ('big', 97),\n",
       " ('last', 97),\n",
       " ('few', 91),\n",
       " ('least', 85),\n",
       " ('next', 85),\n",
       " ('hot', 83),\n",
       " ('large', 81),\n",
       " ('new', 80),\n",
       " ('most', 79),\n",
       " ('same', 78),\n",
       " ('nice', 75),\n",
       " ('old', 73),\n",
       " ('extra', 72),\n",
       " ('busy', 69),\n",
       " ('open', 68),\n",
       " ('little', 66),\n",
       " ('many', 62),\n",
       " ('horrible', 61),\n",
       " ('small', 56),\n",
       " ('hard', 54),\n",
       " ('fresh', 46),\n",
       " ('free', 45),\n",
       " ('best', 45)]"
      ]
     },
     "execution_count": 36,
     "metadata": {},
     "output_type": "execute_result"
    }
   ],
   "source": [
    "adj = dic_of_pos[\"JJ\"]\n",
    "adj_freq = [(item, freq[item]) for item in adj ]\n",
    "sorted_adj_freq= sorted(adj_freq, key = lambda x:x[1], reverse = True)\n",
    "sorted_adj_freq[:30]"
   ]
  },
  {
   "cell_type": "code",
   "execution_count": 37,
   "metadata": {
    "collapsed": false
   },
   "outputs": [
    {
     "data": {
      "text/plain": [
       "[('i', 3560),\n",
       " ('mcdonalds', 953),\n",
       " ('order', 731),\n",
       " ('food', 657),\n",
       " ('time', 448),\n",
       " ('drive', 413),\n",
       " ('service', 404),\n",
       " ('place', 351),\n",
       " ('dont', 334),\n",
       " ('people', 289),\n",
       " ('location', 279),\n",
       " ('thru', 251),\n",
       " ('fries', 242),\n",
       " ('im', 239),\n",
       " ('minutes', 237),\n",
       " ('window', 224),\n",
       " ('coffee', 215),\n",
       " ('manager', 199),\n",
       " ('line', 194),\n",
       " ('right', 190),\n",
       " ('customer', 169),\n",
       " ('didnt', 165),\n",
       " ('times', 161),\n",
       " ('wait', 156),\n",
       " ('staff', 152),\n",
       " ('fast', 150),\n",
       " ('want', 150),\n",
       " ('way', 149),\n",
       " ('work', 147),\n",
       " ('breakfast', 132)]"
      ]
     },
     "execution_count": 37,
     "metadata": {},
     "output_type": "execute_result"
    }
   ],
   "source": [
    "nouns = dic_of_pos[\"NN\"]\n",
    "noun_freq = [(item, freq[item]) for item in nouns]\n",
    "sorted_noun_freq = sorted(noun_freq, key = lambda x: x[1], reverse = True)\n",
    "sorted_noun_freq[:30]"
   ]
  },
  {
   "cell_type": "code",
   "execution_count": 38,
   "metadata": {
    "collapsed": false
   },
   "outputs": [
    {
     "data": {
      "text/plain": [
       "[('not', 861),\n",
       " ('so', 638),\n",
       " ('there', 578),\n",
       " ('up', 481),\n",
       " ('just', 480),\n",
       " ('here', 434),\n",
       " ('only', 342),\n",
       " ('even', 273),\n",
       " ('back', 272),\n",
       " ('then', 266)]"
      ]
     },
     "execution_count": 38,
     "metadata": {},
     "output_type": "execute_result"
    }
   ],
   "source": [
    "adverbs = dic_of_pos[\"RB\"]\n",
    "adverb_freq = [(item, freq[item]) for item in adverbs]\n",
    "sorted_adverb_freq = sorted(adverb_freq, key = lambda x: x[1], reverse = True)\n",
    "sorted_adverb_freq[:10]"
   ]
  },
  {
   "cell_type": "markdown",
   "metadata": {},
   "source": [
    "## Exctracting Boolean Features\n",
    "\n",
    "we use top frequents bigrams, trigrams, nouns, verbs, adjectives and adverbs as our featrures. How many of each we use is gievn in the following list:\n",
    "\n",
    "* Nouns: 100\n",
    "* Verbs: 100\n",
    "* Adjectives: 130\n",
    "* Adevrbs: 110\n",
    "* Bigrams: 100\n",
    "* Trigrams: 150"
   ]
  },
  {
   "cell_type": "code",
   "execution_count": 39,
   "metadata": {
    "collapsed": false
   },
   "outputs": [
    {
     "data": {
      "text/plain": [
       "[('to', 'the', 'mcdonalds'),\n",
       " 'ashamed',\n",
       " ('food', 'is'),\n",
       " 'mcdonalds',\n",
       " 'corporate',\n",
       " ('in', 'the', 'bag'),\n",
       " ('have', 'been'),\n",
       " 'high',\n",
       " 'mcds',\n",
       " ('the', 'only')]"
      ]
     },
     "execution_count": 39,
     "metadata": {},
     "output_type": "execute_result"
    }
   ],
   "source": [
    "\n",
    "def feature_giver(vec_of_which): ## the argument asks for the portion of each list: given above\n",
    "    ls = [sorted_noun_freq, sorted_verb_freq, sorted_adj_freq, sorted_adverb_freq, sorted_bigram_freq, sorted_trigram_freq]\n",
    "    features = []\n",
    "    for i in range(len(vec_of_which)):\n",
    "        our_desired_ls = ls[i]\n",
    "        features = features + our_desired_ls[:vec_of_which[i]]\n",
    "    return list(set(features))\n",
    "\n",
    "important_features = feature_giver([100,100,130,110, 100, 150]) \n",
    "import_words = [item[0] for item in important_features]\n",
    "import_words[:10]"
   ]
  },
  {
   "cell_type": "code",
   "execution_count": 40,
   "metadata": {
    "collapsed": false
   },
   "outputs": [
    {
     "data": {
      "text/plain": [
       "'the drive through'"
      ]
     },
     "execution_count": 40,
     "metadata": {},
     "output_type": "execute_result"
    }
   ],
   "source": [
    "## The following fucntion takes a vector of strings and returns a signle string by concataning them\n",
    "def vec_to_str(inp):\n",
    "    if isinstance(inp,tuple):\n",
    "        res = \"\"\n",
    "        for x in inp:\n",
    "            for char in str(x):\n",
    "                res+=char\n",
    "            res+=\" \"\n",
    "    else:\n",
    "        res = inp\n",
    "    return res.strip()\n",
    "\n",
    "vec_to_str(('the', 'drive', 'through'))"
   ]
  },
  {
   "cell_type": "markdown",
   "metadata": {},
   "source": [
    "### For the features above, we generate a binary vector for each review"
   ]
  },
  {
   "cell_type": "code",
   "execution_count": 42,
   "metadata": {
    "collapsed": false
   },
   "outputs": [
    {
     "data": {
      "text/plain": [
       "({'has(a couple of)': 0,\n",
       "  'has(a fast food)': 0,\n",
       "  'has(a few)': 0,\n",
       "  'has(a long time)': 0,\n",
       "  'has(a lot of)': 0,\n",
       "  'has(a mcdonalds)': 0,\n",
       "  'has(able)': 0,\n",
       "  'has(absolutely)': 0,\n",
       "  'has(across the street)': 0,\n",
       "  'has(actual)': 0,\n",
       "  'has(actually)': 0,\n",
       "  'has(add)': 0,\n",
       "  'has(additional)': 0,\n",
       "  'has(again)': 0,\n",
       "  'has(aggravating)': 0,\n",
       "  'has(ago)': 0,\n",
       "  'has(ahead)': 0,\n",
       "  'has(allow)': 0,\n",
       "  'has(almost)': 0,\n",
       "  'has(alone)': 0,\n",
       "  'has(already)': 0,\n",
       "  'has(also)': 0,\n",
       "  'has(always)': 0,\n",
       "  'has(amazing)': 0,\n",
       "  'has(american)': 0,\n",
       "  'has(and a)': 0,\n",
       "  'has(and i have)': 0,\n",
       "  'has(and i)': 1,\n",
       "  'has(and it was)': 0,\n",
       "  'has(and the food)': 0,\n",
       "  'has(and the)': 0,\n",
       "  'has(and then)': 0,\n",
       "  'has(and there are)': 0,\n",
       "  'has(and they)': 0,\n",
       "  'has(and when i)': 0,\n",
       "  'has(angry)': 0,\n",
       "  'has(anymore)': 0,\n",
       "  'has(anyway)': 0,\n",
       "  'has(anywhere)': 0,\n",
       "  'has(apologize)': 0,\n",
       "  'has(apparently)': 0,\n",
       "  'has(appear)': 0,\n",
       "  'has(apply)': 0,\n",
       "  'has(area)': 0,\n",
       "  'has(ashamed)': 0,\n",
       "  'has(asian)': 0,\n",
       "  'has(ask)': 0,\n",
       "  'has(assume)': 0,\n",
       "  'has(at least)': 0,\n",
       "  'has(at the drive)': 0,\n",
       "  'has(at the window)': 0,\n",
       "  'has(at the)': 0,\n",
       "  'has(at this location)': 0,\n",
       "  'has(at this mcdonalds)': 0,\n",
       "  'has(at this)': 0,\n",
       "  'has(available)': 0,\n",
       "  'has(average)': 0,\n",
       "  'has(aware)': 0,\n",
       "  'has(away)': 0,\n",
       "  'has(back to the)': 0,\n",
       "  'has(back to this)': 0,\n",
       "  'has(back)': 0,\n",
       "  'has(bad)': 0,\n",
       "  'has(bag)': 0,\n",
       "  'has(barely)': 0,\n",
       "  'has(basic)': 0,\n",
       "  'has(basically)': 0,\n",
       "  'has(be)': 1,\n",
       "  'has(because they are)': 0,\n",
       "  'has(been to this)': 0,\n",
       "  'has(been to)': 1,\n",
       "  'has(begging)': 0,\n",
       "  'has(behind the counter)': 0,\n",
       "  'has(believe)': 0,\n",
       "  'has(best)': 0,\n",
       "  'has(better)': 1,\n",
       "  'has(big)': 0,\n",
       "  'has(biggest)': 0,\n",
       "  'has(black)': 0,\n",
       "  'has(breakfast)': 0,\n",
       "  'has(burger)': 0,\n",
       "  'has(busy)': 0,\n",
       "  'has(but i)': 1,\n",
       "  'has(but the)': 0,\n",
       "  'has(buy)': 0,\n",
       "  'has(by far the)': 1,\n",
       "  'has(by the time)': 0,\n",
       "  'has(by the)': 0,\n",
       "  'has(cant)': 0,\n",
       "  'has(car)': 1,\n",
       "  'has(cars)': 0,\n",
       "  'has(cashier)': 0,\n",
       "  'has(certain)': 0,\n",
       "  'has(certainly)': 0,\n",
       "  'has(check)': 0,\n",
       "  'has(cheese)': 0,\n",
       "  'has(chicken)': 0,\n",
       "  'has(clean)': 0,\n",
       "  'has(clear)': 0,\n",
       "  'has(clearly)': 0,\n",
       "  'has(close)': 0,\n",
       "  'has(closed)': 0,\n",
       "  'has(coffee)': 0,\n",
       "  'has(cold)': 0,\n",
       "  'has(come)': 0,\n",
       "  'has(complaining)': 0,\n",
       "  'has(complete)': 1,\n",
       "  'has(completely)': 1,\n",
       "  'has(complicated)': 0,\n",
       "  'has(confusing)': 0,\n",
       "  'has(consider)': 0,\n",
       "  'has(consistently)': 0,\n",
       "  'has(constant)': 0,\n",
       "  'has(constantly)': 0,\n",
       "  'has(contacted)': 0,\n",
       "  'has(corporate)': 0,\n",
       "  'has(correctly)': 0,\n",
       "  'has(counter)': 0,\n",
       "  'has(crappy)': 0,\n",
       "  'has(craving)': 0,\n",
       "  'has(cream)': 0,\n",
       "  'has(customer service and)': 0,\n",
       "  'has(customer service)': 0,\n",
       "  'has(customer)': 0,\n",
       "  'has(customers)': 0,\n",
       "  'has(day)': 0,\n",
       "  'has(definitely)': 0,\n",
       "  'has(didnt)': 0,\n",
       "  'has(different)': 0,\n",
       "  'has(difficult)': 0,\n",
       "  'has(dining)': 0,\n",
       "  'has(dinning)': 0,\n",
       "  'has(dipping)': 0,\n",
       "  'has(dirty)': 0,\n",
       "  'has(disappointed)': 0,\n",
       "  'has(disappointing)': 0,\n",
       "  'has(disgusting)': 0,\n",
       "  'has(disinterested)': 0,\n",
       "  'has(disorganized)': 0,\n",
       "  'has(do not)': 0,\n",
       "  'has(do)': 0,\n",
       "  'has(doesnt)': 0,\n",
       "  'has(dont)': 0,\n",
       "  'has(double)': 0,\n",
       "  'has(down the street)': 0,\n",
       "  'has(down)': 0,\n",
       "  'has(dressing)': 0,\n",
       "  'has(drink)': 0,\n",
       "  'has(drive through)': 1,\n",
       "  'has(drive thru)': 0,\n",
       "  'has(drive)': 1,\n",
       "  'has(drivethru)': 0,\n",
       "  'has(driving)': 0,\n",
       "  'has(due)': 0,\n",
       "  'has(earlier)': 0,\n",
       "  'has(early)': 0,\n",
       "  'has(easily)': 0,\n",
       "  'has(easy)': 0,\n",
       "  'has(eat)': 0,\n",
       "  'has(eaten)': 0,\n",
       "  'has(eating)': 0,\n",
       "  'has(egg)': 0,\n",
       "  'has(else)': 0,\n",
       "  'has(elsewhere)': 0,\n",
       "  'has(emphasize)': 0,\n",
       "  'has(employee)': 0,\n",
       "  'has(employees)': 0,\n",
       "  'has(empty)': 0,\n",
       "  'has(english)': 0,\n",
       "  'has(enough)': 0,\n",
       "  'has(entire)': 0,\n",
       "  'has(especially)': 0,\n",
       "  'has(even)': 0,\n",
       "  'has(evening)': 0,\n",
       "  'has(ever been to)': 1,\n",
       "  'has(ever)': 1,\n",
       "  'has(every time i)': 0,\n",
       "  'has(everywhere)': 0,\n",
       "  'has(exactly)': 0,\n",
       "  'has(excited)': 0,\n",
       "  'has(expect)': 0,\n",
       "  'has(expensive)': 0,\n",
       "  'has(experience)': 0,\n",
       "  'has(extra)': 0,\n",
       "  'has(extremely)': 0,\n",
       "  'has(fairly)': 0,\n",
       "  'has(far the worst)': 1,\n",
       "  'has(far)': 1,\n",
       "  'has(fast food)': 0,\n",
       "  'has(fast)': 0,\n",
       "  'has(few)': 0,\n",
       "  'has(finally)': 0,\n",
       "  'has(find)': 0,\n",
       "  'has(first time i)': 0,\n",
       "  'has(first)': 0,\n",
       "  'has(fking)': 0,\n",
       "  'has(follow)': 0,\n",
       "  'has(food is)': 0,\n",
       "  'has(food)': 0,\n",
       "  'has(for a)': 0,\n",
       "  'has(for my)': 0,\n",
       "  'has(for the)': 0,\n",
       "  'has(foreign)': 0,\n",
       "  'has(forever)': 0,\n",
       "  'has(forward)': 0,\n",
       "  'has(freaking)': 0,\n",
       "  'has(free)': 0,\n",
       "  'has(french)': 0,\n",
       "  'has(fresh)': 0,\n",
       "  'has(fried)': 0,\n",
       "  'has(friendly)': 1,\n",
       "  'has(fries)': 0,\n",
       "  'has(from the)': 0,\n",
       "  'has(front of me)': 0,\n",
       "  'has(front of)': 0,\n",
       "  'has(front)': 0,\n",
       "  'has(frustrated)': 0,\n",
       "  'has(frustrating)': 0,\n",
       "  'has(fucking)': 0,\n",
       "  'has(full)': 0,\n",
       "  'has(general)': 0,\n",
       "  'has(generally)': 0,\n",
       "  'has(get my food)': 0,\n",
       "  'has(get my order)': 0,\n",
       "  'has(get to the)': 0,\n",
       "  'has(get your order)': 0,\n",
       "  'has(get)': 1,\n",
       "  'has(give)': 0,\n",
       "  'has(glowing)': 0,\n",
       "  'has(go back to)': 0,\n",
       "  'has(go to the)': 0,\n",
       "  'has(go to this)': 0,\n",
       "  'has(go to)': 0,\n",
       "  'has(go)': 0,\n",
       "  'has(golden)': 0,\n",
       "  'has(good)': 0,\n",
       "  'has(got my order)': 0,\n",
       "  'has(got to the)': 0,\n",
       "  'has(great)': 0,\n",
       "  'has(greeting)': 0,\n",
       "  'has(grilled)': 0,\n",
       "  'has(gross)': 0,\n",
       "  'has(guess)': 0,\n",
       "  'has(guy)': 0,\n",
       "  'has(had to ask)': 0,\n",
       "  'has(had to wait)': 0,\n",
       "  'has(had to)': 0,\n",
       "  'has(happen)': 0,\n",
       "  'has(happy)': 0,\n",
       "  'has(hard)': 0,\n",
       "  'has(hardly)': 0,\n",
       "  'has(have a)': 0,\n",
       "  'has(have been)': 0,\n",
       "  'has(have ever been)': 0,\n",
       "  'has(have to)': 0,\n",
       "  'has(have)': 0,\n",
       "  'has(healthy)': 0,\n",
       "  'has(hed)': 0,\n",
       "  'has(here)': 0,\n",
       "  'has(high)': 0,\n",
       "  'has(higher)': 0,\n",
       "  'has(hispanic)': 0,\n",
       "  'has(home)': 0,\n",
       "  'has(homeless)': 0,\n",
       "  'has(honestly)': 0,\n",
       "  'has(horrendous)': 0,\n",
       "  'has(horrible)': 0,\n",
       "  'has(hot)': 0,\n",
       "  'has(however)': 0,\n",
       "  'has(huge)': 1,\n",
       "  'has(i am)': 0,\n",
       "  'has(i asked for)': 0,\n",
       "  'has(i asked)': 0,\n",
       "  'has(i could give)': 0,\n",
       "  'has(i could)': 0,\n",
       "  'has(i decided to)': 0,\n",
       "  'has(i do not)': 0,\n",
       "  'has(i dont know)': 0,\n",
       "  'has(i dont)': 0,\n",
       "  'has(i get to)': 0,\n",
       "  'has(i go to)': 0,\n",
       "  'has(i go)': 0,\n",
       "  'has(i got to)': 0,\n",
       "  'has(i got)': 0,\n",
       "  'has(i had a)': 0,\n",
       "  'has(i had to)': 0,\n",
       "  'has(i had)': 0,\n",
       "  'has(i have a)': 0,\n",
       "  'has(i have been)': 0,\n",
       "  'has(i have ever)': 0,\n",
       "  'has(i have never)': 0,\n",
       "  'has(i have to)': 0,\n",
       "  'has(i have)': 0,\n",
       "  'has(i ordered a)': 0,\n",
       "  'has(i ordered)': 0,\n",
       "  'has(i was in)': 0,\n",
       "  'has(i was)': 0,\n",
       "  'has(i went through)': 0,\n",
       "  'has(i went to)': 0,\n",
       "  'has(i went)': 0,\n",
       "  'has(i will never)': 0,\n",
       "  'has(i will)': 0,\n",
       "  'has(i would have)': 0,\n",
       "  'has(i would)': 0,\n",
       "  'has(i)': 1,\n",
       "  'has(ice)': 0,\n",
       "  'has(iced)': 0,\n",
       "  'has(identify)': 0,\n",
       "  'has(if i)': 0,\n",
       "  'has(if you are)': 0,\n",
       "  'has(if you want)': 0,\n",
       "  'has(if you)': 1,\n",
       "  'has(im)': 1,\n",
       "  'has(impossible)': 0,\n",
       "  'has(impressed)': 0,\n",
       "  'has(improve)': 0,\n",
       "  'has(in a hurry)': 0,\n",
       "  'has(in a)': 0,\n",
       "  'has(in and out)': 0,\n",
       "  'has(in front of)': 0,\n",
       "  'has(in line)': 0,\n",
       "  'has(in my)': 0,\n",
       "  'has(in the area)': 0,\n",
       "  'has(in the bag)': 0,\n",
       "  'has(in the drive)': 0,\n",
       "  'has(in the drivethru)': 0,\n",
       "  'has(in the morning)': 0,\n",
       "  'has(in the)': 0,\n",
       "  'has(individual)': 0,\n",
       "  'has(instead)': 0,\n",
       "  'has(interested)': 0,\n",
       "  'has(interesting)': 0,\n",
       "  'has(is a)': 0,\n",
       "  'has(is the worst)': 0,\n",
       "  'has(is the)': 0,\n",
       "  'has(it is)': 0,\n",
       "  'has(it was a)': 0,\n",
       "  'has(it was)': 0,\n",
       "  'has(it would be)': 0,\n",
       "  'has(ive been to)': 1,\n",
       "  'has(ive ever been)': 1,\n",
       "  'has(ive)': 1,\n",
       "  'has(just)': 0,\n",
       "  'has(keep)': 0,\n",
       "  'has(ketchup)': 0,\n",
       "  'has(kids)': 0,\n",
       "  'has(know)': 0,\n",
       "  'has(lacking)': 0,\n",
       "  'has(lady)': 0,\n",
       "  'has(large)': 0,\n",
       "  'has(last)': 0,\n",
       "  'has(late)': 0,\n",
       "  'has(later)': 0,\n",
       "  'has(laughing)': 0,\n",
       "  'has(least)': 0,\n",
       "  'has(leave)': 0,\n",
       "  'has(left)': 0,\n",
       "  'has(less)': 0,\n",
       "  'has(let)': 1,\n",
       "  'has(line)': 0,\n",
       "  'has(literally)': 0,\n",
       "  'has(little)': 0,\n",
       "  'has(live)': 0,\n",
       "  'has(local)': 0,\n",
       "  'has(location)': 0,\n",
       "  'has(long)': 0,\n",
       "  'has(lose)': 0,\n",
       "  'has(lot)': 0,\n",
       "  'has(low)': 0,\n",
       "  'has(lowest)': 0,\n",
       "  'has(lunch)': 0,\n",
       "  'has(main)': 0,\n",
       "  'has(major)': 0,\n",
       "  'has(make)': 0,\n",
       "  'has(manager)': 0,\n",
       "  'has(many)': 0,\n",
       "  'has(maybe)': 0,\n",
       "  'has(mcdonalds i have)': 0,\n",
       "  'has(mcdonalds in the)': 0,\n",
       "  'has(mcdonalds is)': 0,\n",
       "  'has(mcdonalds ive ever)': 0,\n",
       "  'has(mcdonalds)': 0,\n",
       "  'has(mcdouble)': 0,\n",
       "  'has(mcds)': 1,\n",
       "  'has(meal)': 0,\n",
       "  'has(menu)': 0,\n",
       "  'has(minutes to get)': 0,\n",
       "  'has(minutes)': 0,\n",
       "  'has(money)': 0,\n",
       "  'has(more)': 0,\n",
       "  'has(morning)': 0,\n",
       "  'has(most)': 0,\n",
       "  'has(mostly)': 0,\n",
       "  'has(much)': 0,\n",
       "  'has(my food and)': 0,\n",
       "  'has(my food)': 0,\n",
       "  'has(my order and)': 0,\n",
       "  'has(my order i)': 0,\n",
       "  'has(my order was)': 0,\n",
       "  'has(my order wrong)': 0,\n",
       "  'has(my order)': 0,\n",
       "  'has(my way to)': 0,\n",
       "  'has(nasty)': 0,\n",
       "  'has(nearby)': 0,\n",
       "  'has(need)': 0,\n",
       "  'has(negative)': 0,\n",
       "  'has(never)': 0,\n",
       "  'has(new)': 0,\n",
       "  'has(next)': 0,\n",
       "  'has(nice)': 0,\n",
       "  'has(night)': 0,\n",
       "  'has(normal)': 0,\n",
       "  'has(normally)': 0,\n",
       "  'has(not)': 1,\n",
       "  'has(nothing)': 0,\n",
       "  'has(now)': 0,\n",
       "  'has(nowhere)': 0,\n",
       "  'has(nuggets)': 0,\n",
       "  'has(numerous)': 0,\n",
       "  'has(obvious)': 0,\n",
       "  'has(obviously)': 0,\n",
       "  'has(of the time)': 0,\n",
       "  'has(of the worst)': 0,\n",
       "  'has(of the)': 0,\n",
       "  'has(often)': 0,\n",
       "  'has(old)': 0,\n",
       "  'has(older)': 0,\n",
       "  'has(on my way)': 0,\n",
       "  'has(on the)': 0,\n",
       "  'has(once)': 0,\n",
       "  'has(one of the)': 0,\n",
       "  'has(one of)': 0,\n",
       "  'has(only)': 0,\n",
       "  'has(open)': 0,\n",
       "  'has(order)': 1,\n",
       "  'has(ordered)': 0,\n",
       "  'has(ordering)': 0,\n",
       "  'has(orders)': 0,\n",
       "  'has(organize)': 0,\n",
       "  'has(other)': 0,\n",
       "  'has(otherwise)': 0,\n",
       "  'has(out of the)': 0,\n",
       "  'has(out of)': 0,\n",
       "  'has(overall)': 0,\n",
       "  'has(overpriced)': 0,\n",
       "  'has(own)': 0,\n",
       "  'has(panhandling)': 0,\n",
       "  'has(particular)': 0,\n",
       "  'has(particularly)': 0,\n",
       "  'has(pathetic)': 0,\n",
       "  'has(pay)': 0,\n",
       "  'has(people)': 0,\n",
       "  'has(person)': 0,\n",
       "  'has(personal)': 0,\n",
       "  'has(place is)': 0,\n",
       "  'has(place)': 0,\n",
       "  'has(poor)': 0,\n",
       "  'has(poorly)': 0,\n",
       "  'has(possible)': 0,\n",
       "  'has(possibly)': 0,\n",
       "  'has(prepared)': 0,\n",
       "  'has(pretty)': 0,\n",
       "  'has(previous)': 0,\n",
       "  'has(probably)': 0,\n",
       "  'has(pulled up to)': 0,\n",
       "  'has(put)': 0,\n",
       "  'has(qualify)': 0,\n",
       "  'has(quick)': 0,\n",
       "  'has(quickly)': 0,\n",
       "  'has(quite)': 0,\n",
       "  'has(rarely)': 0,\n",
       "  'has(rather)': 0,\n",
       "  'has(ready)': 0,\n",
       "  'has(real)': 0,\n",
       "  'has(realize)': 0,\n",
       "  'has(really)': 0,\n",
       "  'has(receipt)': 0,\n",
       "  'has(recently)': 0,\n",
       "  'has(recognize)': 0,\n",
       "  'has(rectify)': 0,\n",
       "  'has(regular)': 0,\n",
       "  'has(relatively)': 0,\n",
       "  'has(remember)': 0,\n",
       "  'has(remove)': 0,\n",
       "  'has(replace)': 0,\n",
       "  'has(restaurant)': 0,\n",
       "  'has(return to this)': 0,\n",
       "  'has(review)': 0,\n",
       "  'has(ridiculous)': 0,\n",
       "  'has(right)': 0,\n",
       "  'has(rude)': 0,\n",
       "  'has(run)': 0,\n",
       "  'has(sadly)': 0,\n",
       "  'has(safe)': 0,\n",
       "  'has(same)': 0,\n",
       "  'has(sandwich)': 0,\n",
       "  'has(sauce)': 0,\n",
       "  'has(save)': 0,\n",
       "  'has(say)': 0,\n",
       "  'has(scamming)': 0,\n",
       "  'has(seating)': 0,\n",
       "  'has(second)': 0,\n",
       "  'has(see)': 1,\n",
       "  'has(seems to be)': 0,\n",
       "  'has(selling)': 0,\n",
       "  'has(separate)': 0,\n",
       "  'has(serious)': 0,\n",
       "  'has(seriously)': 0,\n",
       "  'has(service)': 0,\n",
       "  'has(several)': 0,\n",
       "  'has(shed)': 0,\n",
       "  'has(short)': 0,\n",
       "  'has(simply)': 0,\n",
       "  'has(sing)': 0,\n",
       "  'has(single)': 0,\n",
       "  'has(slightly)': 0,\n",
       "  'has(slow)': 0,\n",
       "  'has(slower)': 0,\n",
       "  'has(small)': 0,\n",
       "  'has(smaller)': 0,\n",
       "  'has(so i)': 0,\n",
       "  'has(so)': 0,\n",
       "  'has(socialize)': 0,\n",
       "  'has(soft)': 0,\n",
       "  'has(someone)': 0,\n",
       "  'has(something)': 0,\n",
       "  'has(sometimes)': 0,\n",
       "  'has(somewhere)': 0,\n",
       "  'has(soon)': 0,\n",
       "  'has(spanish)': 0,\n",
       "  'has(speaking)': 0,\n",
       "  'has(special)': 0,\n",
       "  'has(specific)': 0,\n",
       "  'has(specifically)': 0,\n",
       "  'has(staff)': 1,\n",
       "  'has(stars)': 0,\n",
       "  'has(still)': 0,\n",
       "  'has(store)': 0,\n",
       "  'has(stupid)': 0,\n",
       "  'has(such)': 0,\n",
       "  'has(sure)': 0,\n",
       "  'has(sweet)': 0,\n",
       "  'has(sweltering)': 0,\n",
       "  'has(swing)': 0,\n",
       "  'has(take)': 0,\n",
       "  'has(tasting)': 0,\n",
       "  'has(tell)': 0,\n",
       "  'has(terrible)': 0,\n",
       "  'has(texting)': 0,\n",
       "  'has(that i)': 0,\n",
       "  'has(thats)': 0,\n",
       "  'has(the 2nd window)': 0,\n",
       "  'has(the cashier)': 0,\n",
       "  'has(the counter)': 0,\n",
       "  'has(the drive through)': 0,\n",
       "  'has(the drive thru)': 0,\n",
       "  'has(the drive)': 0,\n",
       "  'has(the drivethru)': 0,\n",
       "  'has(the employees are)': 0,\n",
       "  'has(the fact that)': 0,\n",
       "  'has(the first time)': 0,\n",
       "  'has(the first)': 0,\n",
       "  'has(the food is)': 0,\n",
       "  'has(the food was)': 0,\n",
       "  'has(the food)': 0,\n",
       "  'has(the fries were)': 0,\n",
       "  'has(the manager)': 0,\n",
       "  'has(the only thing)': 0,\n",
       "  'has(the only)': 0,\n",
       "  'has(the order)': 0,\n",
       "  'has(the parking lot)': 0,\n",
       "  'has(the people who)': 0,\n",
       "  'has(the rest of)': 0,\n",
       "  'has(the same)': 0,\n",
       "  'has(the service is)': 0,\n",
       "  'has(the staff)': 1,\n",
       "  'has(the time i)': 0,\n",
       "  'has(the window and)': 0,\n",
       "  'has(the window)': 0,\n",
       "  'has(the worst mcdonalds)': 0,\n",
       "  'has(the worst)': 1,\n",
       "  'has(then)': 0,\n",
       "  'has(there are)': 0,\n",
       "  'has(there is a)': 0,\n",
       "  'has(there is no)': 0,\n",
       "  'has(there is)': 0,\n",
       "  'has(there was a)': 0,\n",
       "  'has(there was no)': 0,\n",
       "  'has(there was)': 0,\n",
       "  'has(there)': 0,\n",
       "  'has(they are)': 0,\n",
       "  'has(they have)': 0,\n",
       "  'has(they were)': 0,\n",
       "  'has(thing)': 0,\n",
       "  'has(think)': 0,\n",
       "  'has(thinking)': 0,\n",
       "  'has(third)': 0,\n",
       "  'has(this is a)': 0,\n",
       "  'has(this is the)': 0,\n",
       "  'has(this is)': 1,\n",
       "  'has(this location is)': 0,\n",
       "  'has(this location)': 0,\n",
       "  'has(this mcdonalds is)': 0,\n",
       "  'has(this mcdonalds)': 0,\n",
       "  'has(this place is)': 0,\n",
       "  'has(this place)': 0,\n",
       "  'has(through the drive)': 0,\n",
       "  'has(through the drivethru)': 0,\n",
       "  'has(through the)': 1,\n",
       "  'has(thru)': 0,\n",
       "  'has(time i go)': 0,\n",
       "  'has(time i went)': 0,\n",
       "  'has(time i)': 0,\n",
       "  'has(time)': 1,\n",
       "  'has(times)': 0,\n",
       "  'has(tired)': 0,\n",
       "  'has(to ask for)': 0,\n",
       "  'has(to be a)': 0,\n",
       "  'has(to be the)': 0,\n",
       "  'has(to be)': 1,\n",
       "  'has(to get a)': 0,\n",
       "  'has(to get my)': 0,\n",
       "  'has(to get)': 0,\n",
       "  'has(to go to)': 0,\n",
       "  'has(to go)': 0,\n",
       "  'has(to grab a)': 0,\n",
       "  'has(to me and)': 0,\n",
       "  'has(to the mcdonalds)': 0,\n",
       "  'has(to the next)': 0,\n",
       "  'has(to the window)': 0,\n",
       "  'has(to the)': 0,\n",
       "  'has(to this location)': 0,\n",
       "  'has(to this mcdonalds)': 0,\n",
       "  'has(to this)': 0,\n",
       "  'has(to wait for)': 0,\n",
       "  'has(together)': 0,\n",
       "  'has(told)': 0,\n",
       "  'has(too)': 1,\n",
       "  'has(total)': 0,\n",
       "  'has(totally)': 0,\n",
       "  'has(truly)': 0,\n",
       "  'has(twice)': 0,\n",
       "  'has(typical)': 0,\n",
       "  'has(unfortunately)': 0,\n",
       "  'has(unfriendly)': 1,\n",
       "  'has(unhappy)': 0,\n",
       "  'has(unhealthy)': 0,\n",
       "  'has(unprofessional)': 0,\n",
       "  'has(unsweetened)': 0,\n",
       "  'has(up my order)': 0,\n",
       "  'has(up to the)': 0,\n",
       "  'has(up to)': 0,\n",
       "  'has(up)': 1,\n",
       "  'has(usual)': 0,\n",
       "  'has(usually)': 0,\n",
       "  'has(very)': 1,\n",
       "  'has(wait)': 0,\n",
       "  'has(waiting for my)': 0,\n",
       "  'has(walking)': 0,\n",
       "  'has(want)': 0,\n",
       "  'has(warning)': 0,\n",
       "  'has(was a)': 0,\n",
       "  'has(was the)': 0,\n",
       "  'has(watered)': 0,\n",
       "  'has(way)': 0,\n",
       "  'has(well)': 0,\n",
       "  'has(went through the)': 0,\n",
       "  'has(went to the)': 0,\n",
       "  'has(when i asked)': 0,\n",
       "  'has(when i get)': 0,\n",
       "  'has(when i got)': 0,\n",
       "  'has(when i was)': 0,\n",
       "  'has(when i)': 0,\n",
       "  'has(white)': 0,\n",
       "  'has(whole)': 0,\n",
       "  'has(window)': 0,\n",
       "  'has(with a)': 0,\n",
       "  'has(with the)': 0,\n",
       "  'has(work)': 0,\n",
       "  'has(worse)': 0,\n",
       "  'has(worst mcdonalds i)': 0,\n",
       "  'has(worst)': 1,\n",
       "  'has(wrong)': 0,\n",
       "  'has(yelling)': 0,\n",
       "  'has(yet)': 0,\n",
       "  'has(you have to)': 0,\n",
       "  'has(you want to)': 0,\n",
       "  'has(young)': 0,\n",
       "  'has(your order)': 1,\n",
       "  'has(youre)': 0},\n",
       " 'Filthy')"
      ]
     },
     "execution_count": 42,
     "metadata": {},
     "output_type": "execute_result"
    }
   ],
   "source": [
    "def feature_extractor(review):\n",
    "    features = {}\n",
    "    for item in import_words:\n",
    "        item = vec_to_str(item)\n",
    "        features[\"has(%s)\" % item] = int(item in review)\n",
    "    return features\n",
    "\n",
    "data = [] # the binary data and the label for each review\n",
    "for review in paired:\n",
    "    data = data + [(feature_extractor(review[0]), review[1])]\n",
    "data[0]"
   ]
  },
  {
   "cell_type": "markdown",
   "metadata": {},
   "source": [
    "## Writing the data into a csv file"
   ]
  },
  {
   "cell_type": "code",
   "execution_count": 43,
   "metadata": {
    "collapsed": true
   },
   "outputs": [],
   "source": [
    "\n",
    "binary_data = [list(item[0].values()) for item in data]\n",
    "\n",
    "def one_hot(string, labels): ## converting each labels to a 0-1 vector for later Deep Learning Classification\n",
    "    n = len(labels)\n",
    "    vec = [0 for i in range(n)]\n",
    "    for i in range(n):\n",
    "        if labels[i] == string:\n",
    "            vec[i] = 1\n",
    "    return vec\n",
    "labels = list(set([item[1] for item in data]) )"
   ]
  },
  {
   "cell_type": "code",
   "execution_count": 44,
   "metadata": {
    "collapsed": false
   },
   "outputs": [
    {
     "data": {
      "text/plain": [
       "['OrderProblem', 'RudeService', 'BadFood', 'SlowService', 'Filthy']"
      ]
     },
     "execution_count": 44,
     "metadata": {},
     "output_type": "execute_result"
    }
   ],
   "source": [
    "labels ### Labels for the reviews"
   ]
  },
  {
   "cell_type": "code",
   "execution_count": 45,
   "metadata": {
    "collapsed": false
   },
   "outputs": [],
   "source": [
    "target_data = [one_hot(item[1], labels) for item in data] ## Data for Deep learning\n",
    "\n",
    "np.savetxt(\"csv_data.csv\", binary_data, delimiter = \",\")\n",
    "np.savetxt(\"target_data.csv\", target_data, delimiter = \",\")"
   ]
  },
  {
   "cell_type": "markdown",
   "metadata": {},
   "source": [
    "## Splitting data"
   ]
  },
  {
   "cell_type": "code",
   "execution_count": 61,
   "metadata": {
    "collapsed": true
   },
   "outputs": [],
   "source": [
    "random.shuffle(data)\n",
    "\n",
    "n_manual = len(data)\n",
    "train_manual_data = data[:int(round(.8*n_manual))]\n",
    "test_manual_data = data[int(round(.8*n_manual)):]"
   ]
  },
  {
   "cell_type": "code",
   "execution_count": 62,
   "metadata": {
    "collapsed": false
   },
   "outputs": [
    {
     "name": "stdout",
     "output_type": "stream",
     "text": [
      "0.46382978723404256\n"
     ]
    }
   ],
   "source": [
    "naive_bayes_cl = nltk.NaiveBayesClassifier.train(train_manual_data)\n",
    "print(nltk.classify.accuracy(naive_bayes_cl, test_manual_data))"
   ]
  },
  {
   "cell_type": "code",
   "execution_count": 63,
   "metadata": {
    "collapsed": false
   },
   "outputs": [],
   "source": [
    "#tree_cl = nltk.DecisionTreeClassifier.train(train_manual_data)\n",
    "#print(nltk.classify.accuracy(tree_cl, test_manual_data))"
   ]
  },
  {
   "cell_type": "code",
   "execution_count": 64,
   "metadata": {
    "collapsed": false
   },
   "outputs": [],
   "source": [
    "from sklearn.svm import NuSVC #SVC #LinearSVC\n",
    "from nltk.classify.scikitlearn import SklearnClassifier\n",
    "classif = SklearnClassifier(NuSVC())#LinearSVC"
   ]
  },
  {
   "cell_type": "code",
   "execution_count": 65,
   "metadata": {
    "collapsed": false
   },
   "outputs": [
    {
     "name": "stdout",
     "output_type": "stream",
     "text": [
      "0.5404255319148936\n"
     ]
    }
   ],
   "source": [
    "svm_cl = classif.train(train_manual_data)\n",
    "print(nltk.classify.accuracy(svm_cl, test_manual_data))"
   ]
  },
  {
   "cell_type": "markdown",
   "metadata": {},
   "source": [
    "## Plotting Confusion matrix"
   ]
  },
  {
   "cell_type": "code",
   "execution_count": 66,
   "metadata": {
    "collapsed": false
   },
   "outputs": [],
   "source": [
    "import seaborn as sn\n",
    "import pandas as pd\n",
    "import matplotlib.pyplot as plt\n",
    "\n",
    "from sklearn.metrics import confusion_matrix"
   ]
  },
  {
   "cell_type": "code",
   "execution_count": 67,
   "metadata": {
    "collapsed": false
   },
   "outputs": [
    {
     "data": {
      "text/plain": [
       "array([[11,  8,  7,  2,  1],\n",
       "       [10, 17,  4,  4,  1],\n",
       "       [ 8,  5, 24,  6,  1],\n",
       "       [15,  9,  9, 33,  7],\n",
       "       [ 4,  9,  4, 12, 24]])"
      ]
     },
     "execution_count": 67,
     "metadata": {},
     "output_type": "execute_result"
    }
   ],
   "source": [
    "\n",
    "y_true = [item[1] for item in test_manual_data]\n",
    "y_pred = [naive_bayes_cl.classify(pair[0]) for pair in test_manual_data]\n",
    "cm = confusion_matrix(y_true, y_pred)\n",
    "cm"
   ]
  },
  {
   "cell_type": "code",
   "execution_count": 69,
   "metadata": {
    "collapsed": false
   },
   "outputs": [
    {
     "data": {
      "image/png": "[encoded data removed]",
      "text/plain": [
       "<matplotlib.figure.Figure at 0x1cfcd01d908>"
      ]
     },
     "metadata": {},
     "output_type": "display_data"
    }
   ],
   "source": [
    "\n",
    "array = cm\n",
    "\n",
    "final_labels = ['BadFood', 'Filthy', 'OrderProblem', 'RudeService', 'SlowService']\n",
    "df_cm = pd.DataFrame(array, index = [i for i in final_labels],\n",
    "                  columns = [i for i in final_labels])\n",
    "plt.figure(figsize = (10,7))\n",
    "sn.heatmap(df_cm, annot=True)\n",
    "plt.xlabel(\"Predicted\", fontsize = 20)\n",
    "plt.ylabel(\"Actual\", fontsize = 20)\n",
    "plt.title(\"Confusion Matrix for the SVM Classifier 54% Accurate\", fontsize = 20)\n",
    "plt.show()\n",
    "plt.close()"
   ]
  },
  {
   "cell_type": "markdown",
   "metadata": {
    "collapsed": true
   },
   "source": [
    "## 10-fold cross validation: \n",
    "We do not use it as it gives the average of accuracies but we instead use the mod of accuracies"
   ]
  },
  {
   "cell_type": "code",
   "execution_count": 70,
   "metadata": {
    "collapsed": false
   },
   "outputs": [],
   "source": [
    "n_manual = len(data)\n",
    "\n",
    "def list_model_accur(epoch, model):\n",
    "    if model == \"naive\":\n",
    "        classifier = nltk.NaiveBayesClassifier\n",
    "    if model == \"svm\":\n",
    "        classifier = SklearnClassifier(NuSVC())#LinearSVC\n",
    "    ls = []\n",
    "    for i in range(epoch):\n",
    "        random.shuffle(data)\n",
    "        train_manual_data = data[:int(round(.8*n_manual))]\n",
    "        test_manual_data = data[int(round(.8*n_manual)):]\n",
    "        our_model = classifier.train(train_manual_data)\n",
    "        ls.append( nltk.classify.accuracy(our_model, test_manual_data) )\n",
    "    return ls\n"
   ]
  },
  {
   "cell_type": "code",
   "execution_count": 86,
   "metadata": {
    "collapsed": false
   },
   "outputs": [
    {
     "name": "stdout",
     "output_type": "stream",
     "text": [
      "The Naive Bayes gives these accuracies:  [0.4851063829787234, 0.4978723404255319, 0.4425531914893617, 0.4851063829787234, 0.48936170212765956, 0.4978723404255319, 0.502127659574468, 0.4127659574468085, 0.40425531914893614, 0.48936170212765956]\n"
     ]
    }
   ],
   "source": [
    "niave_bayes_acc = list_model_accur(10, \"naive\")"
   ]
  },
  {
   "cell_type": "code",
   "execution_count": 88,
   "metadata": {
    "collapsed": false
   },
   "outputs": [
    {
     "name": "stdout",
     "output_type": "stream",
     "text": [
      "The Naive Bayes gives these accuracies: \n",
      " [0.4851063829787234, 0.4978723404255319, 0.4425531914893617, 0.4851063829787234, 0.48936170212765956, 0.4978723404255319, 0.502127659574468, 0.4127659574468085, 0.40425531914893614, 0.48936170212765956]\n"
     ]
    }
   ],
   "source": [
    "print(\"The Naive Bayes gives these accuracies: \\n\", niave_bayes_acc)"
   ]
  },
  {
   "cell_type": "code",
   "execution_count": 87,
   "metadata": {
    "collapsed": false
   },
   "outputs": [
    {
     "data": {
      "text/plain": [
       "0.48723404255319147"
      ]
     },
     "execution_count": 87,
     "metadata": {},
     "output_type": "execute_result"
    }
   ],
   "source": [
    "np.median(niave_bayes_acc)"
   ]
  },
  {
   "cell_type": "code",
   "execution_count": 78,
   "metadata": {
    "collapsed": false
   },
   "outputs": [
    {
     "name": "stdout",
     "output_type": "stream",
     "text": [
      "The SVM gives these accuracies:  [0.5574468085106383, 0.5404255319148936, 0.4765957446808511, 0.502127659574468, 0.5148936170212766, 0.548936170212766, 0.5361702127659574, 0.5361702127659574, 0.5234042553191489, 0.5787234042553191]\n"
     ]
    }
   ],
   "source": [
    "svm_acc = list_model_accur(10, \"svm\")\n",
    "print(\"The SVM gives these accuracies: \\n\", svm_acc)"
   ]
  },
  {
   "cell_type": "code",
   "execution_count": 84,
   "metadata": {
    "collapsed": false
   },
   "outputs": [
    {
     "data": {
      "text/plain": [
       "0.53148936170212768"
      ]
     },
     "execution_count": 84,
     "metadata": {},
     "output_type": "execute_result"
    }
   ],
   "source": [
    "np.median(svm_acc)"
   ]
  },
  {
   "cell_type": "markdown",
   "metadata": {},
   "source": [
    "# Classification by Keras"
   ]
  },
  {
   "cell_type": "code",
   "execution_count": 74,
   "metadata": {
    "collapsed": false
   },
   "outputs": [
    {
     "name": "stderr",
     "output_type": "stream",
     "text": [
      "Using TensorFlow backend.\n"
     ]
    }
   ],
   "source": [
    "from __future__ import print_function\n",
    "\n",
    "import numpy as np\n",
    "import keras\n",
    "from keras.datasets import reuters\n",
    "from keras.models import Sequential\n",
    "from keras.layers import Dense, Dropout, Activation\n",
    "from keras.preprocessing.text import Tokenizer\n",
    "from keras import optimizers"
   ]
  },
  {
   "cell_type": "code",
   "execution_count": 75,
   "metadata": {
    "collapsed": false
   },
   "outputs": [
    {
     "name": "stdout",
     "output_type": "stream",
     "text": [
      "Loading data...\n",
      "Loading data...done\n"
     ]
    }
   ],
   "source": [
    "\n",
    "print('Loading data...')\n",
    "\n",
    "dataset = np.loadtxt(\"csv_data.csv\", delimiter=\",\")\n",
    "target = np.loadtxt(\"target_data.csv\", delimiter=\",\")\n",
    "print(\"Loading data...done\")"
   ]
  },
  {
   "cell_type": "code",
   "execution_count": 76,
   "metadata": {
    "collapsed": false
   },
   "outputs": [
    {
     "name": "stdout",
     "output_type": "stream",
     "text": [
      "The maxword is  690\n",
      "941 train reviews\n",
      "235 test reviews\n",
      "The number of classes :  5 classes\n",
      "The dimension of dataset is  (1176, 690)\n",
      "The dimension of target data is  (1176, 5)\n",
      "The dimension of train data is  (941, 690)\n",
      "The dimension of test data is  (235, 690)\n"
     ]
    }
   ],
   "source": [
    "max_words = len(dataset[0])\n",
    "print(\"The maxword is \", max_words)\n",
    "batch_size = 10\n",
    "epochs = 60\n",
    "training_portion = int(round(.8*len(dataset)))\n",
    "x_train = dataset[:training_portion]\n",
    "y_train = target[:training_portion]\n",
    "                       \n",
    "x_test = dataset[training_portion:]\n",
    "y_test = target[training_portion:]\n",
    "\n",
    "print(len(x_train), 'train reviews')\n",
    "print(len(x_test), 'test reviews')\n",
    "\n",
    "num_classes = len(y_test[0])\n",
    "print(\"The number of classes : \", num_classes, 'classes')\n",
    "print (\"The dimension of dataset is \", dataset.shape)\n",
    "print (\"The dimension of target data is \", target.shape)\n",
    "\n",
    "print (\"The dimension of train data is \", x_train.shape)\n",
    "print (\"The dimension of test data is \", x_test.shape)\n"
   ]
  },
  {
   "cell_type": "code",
   "execution_count": 77,
   "metadata": {
    "collapsed": false
   },
   "outputs": [
    {
     "name": "stdout",
     "output_type": "stream",
     "text": [
      "x_train shape: (941, 690)\n",
      "x_test shape: (235, 690)\n",
      "Convert class vector to binary class matrix (for use with categorical_crossentropy)\n",
      "y_train shape: (941, 5)\n",
      "y_test shape: (235, 5)\n",
      "Building model...\n",
      "Train on 846 samples, validate on 95 samples\n",
      "Epoch 1/60\n",
      "846/846 [==============================] - 4s 5ms/step - loss: 0.1623 - acc: 0.2258 - val_loss: 0.1553 - val_acc: 0.2421\n",
      "Epoch 2/60\n",
      "846/846 [==============================] - 2s 2ms/step - loss: 0.1513 - acc: 0.3582 - val_loss: 0.1510 - val_acc: 0.2737\n",
      "Epoch 3/60\n",
      "846/846 [==============================] - 1s 2ms/step - loss: 0.1457 - acc: 0.3889 - val_loss: 0.1486 - val_acc: 0.3474\n",
      "Epoch 4/60\n",
      "846/846 [==============================] - 1s 2ms/step - loss: 0.1398 - acc: 0.4362 - val_loss: 0.1452 - val_acc: 0.3789\n",
      "Epoch 5/60\n",
      "846/846 [==============================] - 2s 2ms/step - loss: 0.1315 - acc: 0.4645 - val_loss: 0.1408 - val_acc: 0.4211\n",
      "Epoch 6/60\n",
      "846/846 [==============================] - 1s 2ms/step - loss: 0.1212 - acc: 0.5390 - val_loss: 0.1395 - val_acc: 0.4421\n",
      "Epoch 7/60\n",
      "846/846 [==============================] - 2s 2ms/step - loss: 0.1099 - acc: 0.5934 - val_loss: 0.1338 - val_acc: 0.4526\n",
      "Epoch 8/60\n",
      "846/846 [==============================] - 2s 2ms/step - loss: 0.1027 - acc: 0.6383 - val_loss: 0.1442 - val_acc: 0.4316\n",
      "Epoch 9/60\n",
      "846/846 [==============================] - 1s 2ms/step - loss: 0.0995 - acc: 0.6537 - val_loss: 0.1359 - val_acc: 0.4947\n",
      "Epoch 10/60\n",
      "846/846 [==============================] - 1s 2ms/step - loss: 0.0985 - acc: 0.6501 - val_loss: 0.1306 - val_acc: 0.4842\n",
      "Epoch 11/60\n",
      "846/846 [==============================] - 1s 2ms/step - loss: 0.0820 - acc: 0.7021 - val_loss: 0.1372 - val_acc: 0.4842\n",
      "Epoch 12/60\n",
      "846/846 [==============================] - 1s 2ms/step - loss: 0.0755 - acc: 0.7470 - val_loss: 0.1424 - val_acc: 0.4737\n",
      "Epoch 13/60\n",
      "846/846 [==============================] - 1s 2ms/step - loss: 0.0750 - acc: 0.7447 - val_loss: 0.1370 - val_acc: 0.5368\n",
      "Epoch 14/60\n",
      "846/846 [==============================] - 1s 2ms/step - loss: 0.0709 - acc: 0.7577 - val_loss: 0.1468 - val_acc: 0.4737\n",
      "Epoch 15/60\n",
      "846/846 [==============================] - 1s 2ms/step - loss: 0.0746 - acc: 0.7376 - val_loss: 0.1433 - val_acc: 0.4842\n",
      "Epoch 16/60\n",
      "846/846 [==============================] - 1s 2ms/step - loss: 0.0645 - acc: 0.7849 - val_loss: 0.1541 - val_acc: 0.4632\n",
      "Epoch 17/60\n",
      "846/846 [==============================] - 1s 2ms/step - loss: 0.0629 - acc: 0.7896 - val_loss: 0.1515 - val_acc: 0.4947\n",
      "Epoch 18/60\n",
      "846/846 [==============================] - 1s 2ms/step - loss: 0.0591 - acc: 0.7967 - val_loss: 0.1685 - val_acc: 0.4000\n",
      "Epoch 19/60\n",
      "846/846 [==============================] - 1s 2ms/step - loss: 0.0613 - acc: 0.7991 - val_loss: 0.1614 - val_acc: 0.4737\n",
      "Epoch 20/60\n",
      "846/846 [==============================] - 1s 2ms/step - loss: 0.0569 - acc: 0.7955 - val_loss: 0.1484 - val_acc: 0.5053\n",
      "Epoch 21/60\n",
      "846/846 [==============================] - 1s 2ms/step - loss: 0.0578 - acc: 0.7967 - val_loss: 0.1633 - val_acc: 0.4632\n",
      "Epoch 22/60\n",
      "846/846 [==============================] - 1s 2ms/step - loss: 0.0541 - acc: 0.8180 - val_loss: 0.1750 - val_acc: 0.4316\n",
      "Epoch 23/60\n",
      "846/846 [==============================] - 1s 2ms/step - loss: 0.0537 - acc: 0.8156 - val_loss: 0.1647 - val_acc: 0.4842\n",
      "Epoch 24/60\n",
      "846/846 [==============================] - 1s 2ms/step - loss: 0.0510 - acc: 0.8132 - val_loss: 0.1643 - val_acc: 0.4526\n",
      "Epoch 25/60\n",
      "846/846 [==============================] - 1s 2ms/step - loss: 0.0457 - acc: 0.8522 - val_loss: 0.1670 - val_acc: 0.4526\n",
      "Epoch 26/60\n",
      "846/846 [==============================] - 1s 2ms/step - loss: 0.0502 - acc: 0.8416 - val_loss: 0.1620 - val_acc: 0.4211\n",
      "Epoch 27/60\n",
      "846/846 [==============================] - 1s 2ms/step - loss: 0.0542 - acc: 0.8203 - val_loss: 0.1720 - val_acc: 0.4842\n",
      "Epoch 28/60\n",
      "846/846 [==============================] - 1s 2ms/step - loss: 0.0516 - acc: 0.8298 - val_loss: 0.1560 - val_acc: 0.4947\n",
      "Epoch 29/60\n",
      "846/846 [==============================] - 1s 2ms/step - loss: 0.0515 - acc: 0.8239 - val_loss: 0.1677 - val_acc: 0.5053\n",
      "Epoch 30/60\n",
      "846/846 [==============================] - 1s 2ms/step - loss: 0.0508 - acc: 0.8286 - val_loss: 0.1665 - val_acc: 0.4947\n",
      "Epoch 31/60\n",
      "846/846 [==============================] - 1s 2ms/step - loss: 0.0422 - acc: 0.8546 - val_loss: 0.1743 - val_acc: 0.4526\n",
      "Epoch 32/60\n",
      "846/846 [==============================] - 1s 2ms/step - loss: 0.0478 - acc: 0.8428 - val_loss: 0.1695 - val_acc: 0.4842\n",
      "Epoch 33/60\n",
      "846/846 [==============================] - 1s 2ms/step - loss: 0.0427 - acc: 0.8475 - val_loss: 0.1714 - val_acc: 0.4526\n",
      "Epoch 34/60\n",
      "846/846 [==============================] - 1s 2ms/step - loss: 0.0467 - acc: 0.8392 - val_loss: 0.2003 - val_acc: 0.4316\n",
      "Epoch 35/60\n",
      "846/846 [==============================] - 1s 2ms/step - loss: 0.0509 - acc: 0.8298 - val_loss: 0.1722 - val_acc: 0.4947\n",
      "Epoch 36/60\n",
      "846/846 [==============================] - 1s 2ms/step - loss: 0.0548 - acc: 0.8239 - val_loss: 0.1924 - val_acc: 0.4316\n",
      "Epoch 37/60\n",
      "846/846 [==============================] - 1s 2ms/step - loss: 0.0497 - acc: 0.8322 - val_loss: 0.1869 - val_acc: 0.4632\n",
      "Epoch 38/60\n",
      "846/846 [==============================] - 2s 2ms/step - loss: 0.0583 - acc: 0.7991 - val_loss: 0.1831 - val_acc: 0.4842\n",
      "Epoch 39/60\n",
      "846/846 [==============================] - 1s 2ms/step - loss: 0.0494 - acc: 0.8381 - val_loss: 0.1662 - val_acc: 0.5053\n",
      "Epoch 40/60\n",
      "846/846 [==============================] - 1s 2ms/step - loss: 0.0538 - acc: 0.8286 - val_loss: 0.1726 - val_acc: 0.4947\n",
      "Epoch 41/60\n",
      "846/846 [==============================] - 1s 2ms/step - loss: 0.0434 - acc: 0.8605 - val_loss: 0.1772 - val_acc: 0.4316\n",
      "Epoch 42/60\n",
      "846/846 [==============================] - 1s 2ms/step - loss: 0.0528 - acc: 0.8369 - val_loss: 0.1718 - val_acc: 0.4737\n",
      "Epoch 43/60\n",
      "846/846 [==============================] - 1s 2ms/step - loss: 0.0520 - acc: 0.8274 - val_loss: 0.1742 - val_acc: 0.4632\n",
      "Epoch 44/60\n",
      "846/846 [==============================] - 1s 2ms/step - loss: 0.0467 - acc: 0.8416 - val_loss: 0.1679 - val_acc: 0.4737\n",
      "Epoch 45/60\n",
      "846/846 [==============================] - 2s 2ms/step - loss: 0.0460 - acc: 0.8499 - val_loss: 0.1760 - val_acc: 0.4842\n",
      "Epoch 46/60\n",
      "846/846 [==============================] - 1s 2ms/step - loss: 0.0433 - acc: 0.8499 - val_loss: 0.1831 - val_acc: 0.4421\n",
      "Epoch 47/60\n",
      "846/846 [==============================] - 1s 2ms/step - loss: 0.0362 - acc: 0.8735 - val_loss: 0.1832 - val_acc: 0.4737\n",
      "Epoch 48/60\n",
      "846/846 [==============================] - 1s 2ms/step - loss: 0.0455 - acc: 0.8463 - val_loss: 0.1822 - val_acc: 0.4842\n",
      "Epoch 49/60\n",
      "846/846 [==============================] - 1s 2ms/step - loss: 0.0494 - acc: 0.8215 - val_loss: 0.1771 - val_acc: 0.4526\n",
      "Epoch 50/60\n",
      "846/846 [==============================] - 1s 2ms/step - loss: 0.0506 - acc: 0.8298 - val_loss: 0.1936 - val_acc: 0.4316\n",
      "Epoch 51/60\n",
      "846/846 [==============================] - 1s 2ms/step - loss: 0.0436 - acc: 0.8499 - val_loss: 0.1941 - val_acc: 0.4316\n",
      "Epoch 52/60\n",
      "846/846 [==============================] - 1s 2ms/step - loss: 0.0409 - acc: 0.8582 - val_loss: 0.1864 - val_acc: 0.4842\n",
      "Epoch 53/60\n",
      "846/846 [==============================] - 1s 2ms/step - loss: 0.0390 - acc: 0.8605 - val_loss: 0.1849 - val_acc: 0.4947\n",
      "Epoch 54/60\n",
      "846/846 [==============================] - 1s 2ms/step - loss: 0.0471 - acc: 0.8546 - val_loss: 0.1855 - val_acc: 0.4947\n",
      "Epoch 55/60\n",
      "846/846 [==============================] - 1s 2ms/step - loss: 0.0487 - acc: 0.8416 - val_loss: 0.1890 - val_acc: 0.4632\n",
      "Epoch 56/60\n",
      "846/846 [==============================] - 1s 2ms/step - loss: 0.0489 - acc: 0.8310 - val_loss: 0.1844 - val_acc: 0.4421\n",
      "Epoch 57/60\n",
      "846/846 [==============================] - 1s 2ms/step - loss: 0.0488 - acc: 0.8333 - val_loss: 0.1945 - val_acc: 0.4526\n",
      "Epoch 58/60\n",
      "846/846 [==============================] - 1s 2ms/step - loss: 0.0413 - acc: 0.8582 - val_loss: 0.2060 - val_acc: 0.4316\n",
      "Epoch 59/60\n",
      "846/846 [==============================] - 1s 2ms/step - loss: 0.0504 - acc: 0.8357 - val_loss: 0.1890 - val_acc: 0.4632\n",
      "Epoch 60/60\n",
      "846/846 [==============================] - 1s 2ms/step - loss: 0.0400 - acc: 0.8700 - val_loss: 0.2229 - val_acc: 0.3789\n",
      "235/235 [==============================] - 0s 447us/step\n",
      "Test score: 0.201844873581\n",
      "Test accuracy: 0.442553198401\n"
     ]
    }
   ],
   "source": [
    "print('x_train shape:', x_train.shape)\n",
    "print('x_test shape:', x_test.shape)\n",
    "\n",
    "print('Convert class vector to binary class matrix '\n",
    "      '(for use with categorical_crossentropy)')\n",
    "\n",
    "print('y_train shape:', y_train.shape)\n",
    "print('y_test shape:', y_test.shape)\n",
    "\n",
    "print('Building model...')\n",
    "model = Sequential()\n",
    "\n",
    "\n",
    "model.add(Dense(580, input_shape=(max_words,)))\n",
    "model.add(Dense(400, input_shape=(580,)))\n",
    "model.add(Dense(280, input_shape=(400,)))\n",
    "model.add(Dense(150, input_shape=(280,)))\n",
    "model.add(Dense(95, input_shape=(150,)))\n",
    "model.add(Dense(50, input_shape=(95,)))\n",
    "model.add(Dense(35, input_shape=(50,)))\n",
    "model.add(Dense(15, input_shape=(35,)))\n",
    "\n",
    "\n",
    "model.add(Activation('relu'))\n",
    "model.add(Dropout(0.4))\n",
    "model.add(Dense(num_classes))\n",
    "model.add(Activation('softmax'))\n",
    "\n",
    "\n",
    "\n",
    "sgd = optimizers.SGD(lr=0.01, decay=1e-6, momentum=0.9, nesterov=True)\n",
    "model.compile(loss='mean_squared_error', optimizer=sgd, \n",
    "             metrics=['accuracy'])\n",
    "'''\n",
    "model.compile(loss='categorical_crossentropy',\n",
    "              optimizer='adam',\n",
    "              metrics=['accuracy'])\n",
    "'''\n",
    "\n",
    "\n",
    "history = model.fit(x_train, y_train,\n",
    "                    batch_size=batch_size,\n",
    "                    epochs=epochs,\n",
    "                    verbose=1,\n",
    "                    validation_split=0.1)\n",
    "\n",
    "score = model.evaluate(x_test, y_test,\n",
    "                       batch_size=batch_size, verbose=1)\n",
    "print('Test score:', score[0])\n",
    "print('Test accuracy:', score[1])"
   ]
  },
  {
   "cell_type": "markdown",
   "metadata": {
    "collapsed": true
   },
   "source": [
    "### Other architectures:"
   ]
  },
  {
   "cell_type": "code",
   "execution_count": null,
   "metadata": {
    "collapsed": false
   },
   "outputs": [],
   "source": [
    "'''\n",
    "model.add(Dense(450, input_shape=(max_words,)))\n",
    "model.add(Dense(230, input_shape=(450,)))\n",
    "model.add(Dense(95, input_shape=(230,)))\n",
    "model.add(Dense(50, input_shape=(95,)))\n",
    "model.add(Dense(35, input_shape=(50,)))\n",
    "model.add(Dense(15, input_shape=(35,)))\n",
    "'''\n",
    "\n",
    "\"\"\"\n",
    "model.add(Dense(300, input_shape=(max_words,)))\n",
    "model.add(Dense(130, input_shape=(1000,)))\n",
    "model.add(Dense(35, input_shape=(600,)))\n",
    "model.add(Dense(15, input_shape=(350,)))\n",
    "\"\"\"\n",
    "\n",
    "\"\"\"\n",
    "model.add(Dense(350, input_shape=(600,)))\n",
    "model.add(Dense(180, input_shape=(350,)))\n",
    "model.add(Dense(75, input_shape=(180,)))\n",
    "model.add(Dense(20, input_shape=(75,)))\n",
    "model.add(Dense(10, input_shape=(20,)))\n",
    "\"\"\""
   ]
  },
  {
   "cell_type": "code",
   "execution_count": null,
   "metadata": {
    "collapsed": true
   },
   "outputs": [],
   "source": []
  },
  {
   "cell_type": "code",
   "execution_count": null,
   "metadata": {
    "collapsed": true
   },
   "outputs": [],
   "source": []
  },
  {
   "cell_type": "markdown",
   "metadata": {},
   "source": [
    "## How Does TextBlob NaiveBayes Classifier Perform?"
   ]
  },
  {
   "cell_type": "code",
   "execution_count": 78,
   "metadata": {
    "collapsed": true
   },
   "outputs": [],
   "source": [
    "n = len(paired)\n",
    "train = paired[:int(round(.8*n))]\n",
    "test = paired[int(round(.8*n)):]"
   ]
  },
  {
   "cell_type": "code",
   "execution_count": 79,
   "metadata": {
    "collapsed": true
   },
   "outputs": [],
   "source": [
    "from textblob.classifiers import NaiveBayesClassifier\n",
    "cl = NaiveBayesClassifier(train)"
   ]
  },
  {
   "cell_type": "markdown",
   "metadata": {},
   "source": [
    "## Accuracy of TextBlob Classifier (For Baseline Purposes)"
   ]
  },
  {
   "cell_type": "code",
   "execution_count": 80,
   "metadata": {
    "collapsed": false
   },
   "outputs": [
    {
     "data": {
      "text/plain": [
       "0.35319148936170214"
      ]
     },
     "execution_count": 80,
     "metadata": {},
     "output_type": "execute_result"
    }
   ],
   "source": [
    "cl.accuracy(test)"
   ]
  },
  {
   "cell_type": "code",
   "execution_count": null,
   "metadata": {
    "collapsed": true
   },
   "outputs": [],
   "source": []
  }
 ],
 "metadata": {
  "anaconda-cloud": {},
  "kernelspec": {
   "display_name": "Python [conda root]",
   "language": "python",
   "name": "conda-root-py"
  },
  "language_info": {
   "codemirror_mode": {
    "name": "ipython",
    "version": 3
   },
   "file_extension": ".py",
   "mimetype": "text/x-python",
   "name": "python",
   "nbconvert_exporter": "python",
   "pygments_lexer": "ipython3",
   "version": "3.5.2"
  }
 },
 "nbformat": 4,
 "nbformat_minor": 2
}
